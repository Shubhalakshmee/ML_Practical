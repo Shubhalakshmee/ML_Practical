{
  "nbformat": 4,
  "nbformat_minor": 0,
  "metadata": {
    "colab": {
      "provenance": []
    },
    "kernelspec": {
      "name": "python3",
      "display_name": "Python 3"
    },
    "language_info": {
      "name": "python"
    }
  },
  "cells": [
    {
      "cell_type": "code",
      "execution_count": 1,
      "metadata": {
        "colab": {
          "base_uri": "https://localhost:8080/",
          "height": 0
        },
        "id": "UGWvkMW_DyQD",
        "outputId": "8a63de02-1bd9-43fa-ed11-c7ecf354cfac"
      },
      "outputs": [
        {
          "output_type": "stream",
          "name": "stdout",
          "text": [
            "[1, 1, 1, 1, 1, 1, 1, 0]\n"
          ]
        }
      ],
      "source": [
        "from random import randint\n",
        "x=[3,8,9,6,4,73,85,18]\n",
        "y=[21,31,87,24,6,45,22,29]\n",
        "c=[]\n",
        "for i in range(8):\n",
        "  c.append(randint(0,1))\n",
        "print(c)"
      ]
    },
    {
      "cell_type": "code",
      "source": [
        "import matplotlib.pyplot as plt\n",
        "plt.scatter(x,y,c=c)\n",
        "plt.show"
      ],
      "metadata": {
        "colab": {
          "base_uri": "https://localhost:8080/",
          "height": 284
        },
        "id": "-2f4JxXKEJs_",
        "outputId": "f82c037b-c3fd-4787-902c-9acbf9bd7679"
      },
      "execution_count": 2,
      "outputs": [
        {
          "output_type": "execute_result",
          "data": {
            "text/plain": [
              "<function matplotlib.pyplot.show(*args, **kw)>"
            ]
          },
          "metadata": {},
          "execution_count": 2
        },
        {
          "output_type": "display_data",
          "data": {
            "text/plain": [
              "<Figure size 432x288 with 1 Axes>"
            ],
            "image/png": "[encoded data removed]"
          },
          "metadata": {
            "needs_background": "light"
          }
        }
      ]
    },
    {
      "cell_type": "code",
      "source": [
        "from sklearn.neighbors import KNeighborsClassifier\n",
        "\n",
        "data=list(zip(x,y))\n",
        "knn=KNeighborsClassifier(n_neighbors=3)\n",
        "\n",
        "knn.fit(data,c)\n",
        "\n",
        "KNeighborsClassifier(n_neighbors=3)\n",
        "\n",
        "x_test=[1,3,5,7,9,11]\n",
        "y_test=[2,4,6,8,10,12]\n",
        "test_data=list(zip(x_test,y_test))\n",
        "\n",
        "prediction = knn.predict(test_data)\n",
        "print(prediction)"
      ],
      "metadata": {
        "colab": {
          "base_uri": "https://localhost:8080/",
          "height": 0
        },
        "id": "gshzBU6REOaT",
        "outputId": "7b6acf83-66ff-4c12-a9dc-a3ea9b7e126f"
      },
      "execution_count": 3,
      "outputs": [
        {
          "output_type": "stream",
          "name": "stdout",
          "text": [
            "[1 1 1 1 1 1]\n"
          ]
        }
      ]
    },
    {
      "cell_type": "code",
      "source": [
        "plt.scatter(x_test,y_test,c=prediction)"
      ],
      "metadata": {
        "colab": {
          "base_uri": "https://localhost:8080/",
          "height": 282
        },
        "id": "ChuIwHBXETTS",
        "outputId": "9d91740a-5bab-4daa-a351-19199351cd9b"
      },
      "execution_count": 4,
      "outputs": [
        {
          "output_type": "execute_result",
          "data": {
            "text/plain": [
              "<matplotlib.collections.PathCollection at 0x7fe5e6d37bd0>"
            ]
          },
          "metadata": {},
          "execution_count": 4
        },
        {
          "output_type": "display_data",
          "data": {
            "text/plain": [
              "<Figure size 432x288 with 1 Axes>"
            ],
            "image/png": "[encoded data removed]"
          },
          "metadata": {
            "needs_background": "light"
          }
        }
      ]
    },
    {
      "cell_type": "code",
      "source": [
        "from sklearn.naive_bayes import GaussianNB\n",
        "\n",
        "#navie bayes \n",
        "nb_model = GaussianNB()\n",
        "nb_mod = nb_model.fit(data,c)\n",
        "predictions = nb_mod.predict(test_data)\n",
        "\n",
        "plt.scatter(x_test,y_test,c=predictions)\n",
        "\n",
        "plt.show()"
      ],
      "metadata": {
        "colab": {
          "base_uri": "https://localhost:8080/",
          "height": 265
        },
        "id": "YUb5kVwZEXVM",
        "outputId": "83187a42-c626-454f-c1f8-49deb3b2509b"
      },
      "execution_count": 7,
      "outputs": [
        {
          "output_type": "display_data",
          "data": {
            "text/plain": [
              "<Figure size 432x288 with 1 Axes>"
            ],
            "image/png": "[encoded data removed]"
          },
          "metadata": {
            "needs_background": "light"
          }
        }
      ]
    }
  ]
}